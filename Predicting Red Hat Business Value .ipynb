{
 "cells": [
  {
   "cell_type": "markdown",
   "metadata": {},
   "source": [
    "<h1 \"style=\"font-family: Arial; font-size:2.95em;color:purple; font-style:bold\"\"> Predictiong Red Hat Business Vlue </h1>\n",
    "                <p> Comme la plupart des entreprises, Red Hat est capable de recueillir au fil du temps de nombreuses informations sur le comportement des personnes qui interagissent avec elles. Ils sont à la recherche de meilleures méthodes d’utilisation de ces données comportementales pour prédire quelles personnes ils doivent contacter, et même quand et comment les aborder.\n",
    "Dans le cadre de ce concours, Kagglers doit créer un algorithme de classification qui identifie avec précision les clients qui présentent le plus de valeur ajoutée potentielle pour Red Hat, en fonction de leurs caractéristiques et de leurs activités.\n",
    "Avec un modèle de prévision amélioré en place, Red Hat sera en mesure de hiérarchiser les ressources de manière plus efficace afin de générer davantage d'activités et de mieux servir leurs clients.\n",
    "Pour relever  ce genre de défi nous serons amenés à suivre le processus de la Science de données.\n",
    " </p>"
   ]
  },
  {
   "cell_type": "markdown",
   "metadata": {},
   "source": [
    "<h4 style=\"font-size:1.5em;color:#2467C0\">Compréhension du métier</h4><p>\n",
    "Cette étape sert de  compréhension de  l’objectif du problème en science de données. \n",
    "Le défi de ce projet  est de prédire la valeur commerciale potentielle d’une personne ayant exercé une activité spécifique au sein de la compagnie Red hat. Le résultat de cette valeur est défini par un champ booléen oui / non attaché à chaque activité unique dans le fichier csv d'activité. Le champ de résultat nommé « outcome » indique si chaque personne a terminé le résultat dans un délai déterminé après chaque activité unique\n",
    "Etant donné que nous devons prédire si chaque personne a terminé l’activité dans le délai. Il s’agit donc de construire un classifieur binaire pour identifier quels agents ont terminé l’activité dans le délai.</p>\n"
   ]
  },
  {
   "cell_type": "markdown",
   "metadata": {},
   "source": [
    "<h4 style=\"font-size:1.5em;color:#2467C0\">Préparation des données </4>"
   ]
  },
  {
   "cell_type": "code",
   "execution_count": 1,
   "metadata": {},
   "outputs": [],
   "source": [
    "import numpy as np \n",
    "import pandas as pd \n",
    "import matplotlib.pyplot as plt\n",
    "%matplotlib inline"
   ]
  },
  {
   "cell_type": "code",
   "execution_count": null,
   "metadata": {},
   "outputs": [],
   "source": []
  },
  {
   "cell_type": "markdown",
   "metadata": {},
   "source": [
    "<h4 style=\"font-size:1.5em;color:#2467C0\">Importation de 3 fichiers csv pour former notre dataset</h4>"
   ]
  },
  {
   "cell_type": "code",
   "execution_count": 2,
   "metadata": {},
   "outputs": [],
   "source": [
    "act_train = pd.read_csv('D:/5èmeannée2ite/Projet kaggle/dataset/act_train.csv')\n",
    "act_test = pd.read_csv('D:/5èmeannée2ite/Projet kaggle/dataset/act_test.csv')\n",
    "people = pd.read_csv('D:/5èmeannée2ite/Projet kaggle/dataset/people.csv')\n"
   ]
  },
  {
   "cell_type": "markdown",
   "metadata": {},
   "source": [
    "<p style=\"font-size:1.5em;color:#2467C0\" >Jointure entre nos 3 fichiers csv en utilisant la fonction merge de pandas </p> \n",
    "<p style=\"font-size:1.5em;color:#2467C0\">obtention de deux dataframe <p>\n",
    "<p>dataframe du training: df_train  </p>\n",
    "  <p>dataframe  du test : df_test  <p>"
   ]
  },
  {
   "cell_type": "code",
   "execution_count": 3,
   "metadata": {},
   "outputs": [],
   "source": [
    "df_train = pd.merge(act_train, people , on='people_id', suffixes=(\"_act\", \"\"))\n",
    "df_test = pd.merge(act_test, people , on='people_id', suffixes=(\"_act\", \"\"))\n"
   ]
  },
  {
   "cell_type": "markdown",
   "metadata": {},
   "source": [
    "indexation de  nos dataframe avec le champ \"activity_id\""
   ]
  },
  {
   "cell_type": "code",
   "execution_count": 4,
   "metadata": {},
   "outputs": [],
   "source": [
    "df_train = df_train.set_index(\"activity_id\")\n",
    "df_test = df_test.set_index(\"activity_id\")"
   ]
  },
  {
   "cell_type": "code",
   "execution_count": 5,
   "metadata": {},
   "outputs": [
    {
     "data": {
      "text/plain": [
       "(2197291, 54)"
      ]
     },
     "execution_count": 5,
     "metadata": {},
     "output_type": "execute_result"
    }
   ],
   "source": [
    "df_train.shape"
   ]
  },
  {
   "cell_type": "code",
   "execution_count": 6,
   "metadata": {},
   "outputs": [
    {
     "data": {
      "text/html": [
       "<div>\n",
       "<style scoped>\n",
       "    .dataframe tbody tr th:only-of-type {\n",
       "        vertical-align: middle;\n",
       "    }\n",
       "\n",
       "    .dataframe tbody tr th {\n",
       "        vertical-align: top;\n",
       "    }\n",
       "\n",
       "    .dataframe thead th {\n",
       "        text-align: right;\n",
       "    }\n",
       "</style>\n",
       "<table border=\"1\" class=\"dataframe\">\n",
       "  <thead>\n",
       "    <tr style=\"text-align: right;\">\n",
       "      <th></th>\n",
       "      <th>people_id</th>\n",
       "      <th>date_act</th>\n",
       "      <th>activity_category</th>\n",
       "      <th>char_1_act</th>\n",
       "      <th>char_2_act</th>\n",
       "      <th>char_3_act</th>\n",
       "      <th>char_4_act</th>\n",
       "      <th>char_5_act</th>\n",
       "      <th>char_6_act</th>\n",
       "      <th>char_7_act</th>\n",
       "      <th>...</th>\n",
       "      <th>char_29</th>\n",
       "      <th>char_30</th>\n",
       "      <th>char_31</th>\n",
       "      <th>char_32</th>\n",
       "      <th>char_33</th>\n",
       "      <th>char_34</th>\n",
       "      <th>char_35</th>\n",
       "      <th>char_36</th>\n",
       "      <th>char_37</th>\n",
       "      <th>char_38</th>\n",
       "    </tr>\n",
       "    <tr>\n",
       "      <th>activity_id</th>\n",
       "      <th></th>\n",
       "      <th></th>\n",
       "      <th></th>\n",
       "      <th></th>\n",
       "      <th></th>\n",
       "      <th></th>\n",
       "      <th></th>\n",
       "      <th></th>\n",
       "      <th></th>\n",
       "      <th></th>\n",
       "      <th></th>\n",
       "      <th></th>\n",
       "      <th></th>\n",
       "      <th></th>\n",
       "      <th></th>\n",
       "      <th></th>\n",
       "      <th></th>\n",
       "      <th></th>\n",
       "      <th></th>\n",
       "      <th></th>\n",
       "      <th></th>\n",
       "    </tr>\n",
       "  </thead>\n",
       "  <tbody>\n",
       "    <tr>\n",
       "      <td>act2_1734928</td>\n",
       "      <td>ppl_100</td>\n",
       "      <td>2023-08-26</td>\n",
       "      <td>type 4</td>\n",
       "      <td>NaN</td>\n",
       "      <td>NaN</td>\n",
       "      <td>NaN</td>\n",
       "      <td>NaN</td>\n",
       "      <td>NaN</td>\n",
       "      <td>NaN</td>\n",
       "      <td>NaN</td>\n",
       "      <td>...</td>\n",
       "      <td>False</td>\n",
       "      <td>True</td>\n",
       "      <td>True</td>\n",
       "      <td>False</td>\n",
       "      <td>False</td>\n",
       "      <td>True</td>\n",
       "      <td>True</td>\n",
       "      <td>True</td>\n",
       "      <td>False</td>\n",
       "      <td>36</td>\n",
       "    </tr>\n",
       "    <tr>\n",
       "      <td>act2_2434093</td>\n",
       "      <td>ppl_100</td>\n",
       "      <td>2022-09-27</td>\n",
       "      <td>type 2</td>\n",
       "      <td>NaN</td>\n",
       "      <td>NaN</td>\n",
       "      <td>NaN</td>\n",
       "      <td>NaN</td>\n",
       "      <td>NaN</td>\n",
       "      <td>NaN</td>\n",
       "      <td>NaN</td>\n",
       "      <td>...</td>\n",
       "      <td>False</td>\n",
       "      <td>True</td>\n",
       "      <td>True</td>\n",
       "      <td>False</td>\n",
       "      <td>False</td>\n",
       "      <td>True</td>\n",
       "      <td>True</td>\n",
       "      <td>True</td>\n",
       "      <td>False</td>\n",
       "      <td>36</td>\n",
       "    </tr>\n",
       "    <tr>\n",
       "      <td>act2_3404049</td>\n",
       "      <td>ppl_100</td>\n",
       "      <td>2022-09-27</td>\n",
       "      <td>type 2</td>\n",
       "      <td>NaN</td>\n",
       "      <td>NaN</td>\n",
       "      <td>NaN</td>\n",
       "      <td>NaN</td>\n",
       "      <td>NaN</td>\n",
       "      <td>NaN</td>\n",
       "      <td>NaN</td>\n",
       "      <td>...</td>\n",
       "      <td>False</td>\n",
       "      <td>True</td>\n",
       "      <td>True</td>\n",
       "      <td>False</td>\n",
       "      <td>False</td>\n",
       "      <td>True</td>\n",
       "      <td>True</td>\n",
       "      <td>True</td>\n",
       "      <td>False</td>\n",
       "      <td>36</td>\n",
       "    </tr>\n",
       "    <tr>\n",
       "      <td>act2_3651215</td>\n",
       "      <td>ppl_100</td>\n",
       "      <td>2023-08-04</td>\n",
       "      <td>type 2</td>\n",
       "      <td>NaN</td>\n",
       "      <td>NaN</td>\n",
       "      <td>NaN</td>\n",
       "      <td>NaN</td>\n",
       "      <td>NaN</td>\n",
       "      <td>NaN</td>\n",
       "      <td>NaN</td>\n",
       "      <td>...</td>\n",
       "      <td>False</td>\n",
       "      <td>True</td>\n",
       "      <td>True</td>\n",
       "      <td>False</td>\n",
       "      <td>False</td>\n",
       "      <td>True</td>\n",
       "      <td>True</td>\n",
       "      <td>True</td>\n",
       "      <td>False</td>\n",
       "      <td>36</td>\n",
       "    </tr>\n",
       "    <tr>\n",
       "      <td>act2_4109017</td>\n",
       "      <td>ppl_100</td>\n",
       "      <td>2023-08-26</td>\n",
       "      <td>type 2</td>\n",
       "      <td>NaN</td>\n",
       "      <td>NaN</td>\n",
       "      <td>NaN</td>\n",
       "      <td>NaN</td>\n",
       "      <td>NaN</td>\n",
       "      <td>NaN</td>\n",
       "      <td>NaN</td>\n",
       "      <td>...</td>\n",
       "      <td>False</td>\n",
       "      <td>True</td>\n",
       "      <td>True</td>\n",
       "      <td>False</td>\n",
       "      <td>False</td>\n",
       "      <td>True</td>\n",
       "      <td>True</td>\n",
       "      <td>True</td>\n",
       "      <td>False</td>\n",
       "      <td>36</td>\n",
       "    </tr>\n",
       "  </tbody>\n",
       "</table>\n",
       "<p>5 rows × 54 columns</p>\n",
       "</div>"
      ],
      "text/plain": [
       "             people_id    date_act activity_category char_1_act char_2_act  \\\n",
       "activity_id                                                                  \n",
       "act2_1734928   ppl_100  2023-08-26            type 4        NaN        NaN   \n",
       "act2_2434093   ppl_100  2022-09-27            type 2        NaN        NaN   \n",
       "act2_3404049   ppl_100  2022-09-27            type 2        NaN        NaN   \n",
       "act2_3651215   ppl_100  2023-08-04            type 2        NaN        NaN   \n",
       "act2_4109017   ppl_100  2023-08-26            type 2        NaN        NaN   \n",
       "\n",
       "             char_3_act char_4_act char_5_act char_6_act char_7_act  ...  \\\n",
       "activity_id                                                          ...   \n",
       "act2_1734928        NaN        NaN        NaN        NaN        NaN  ...   \n",
       "act2_2434093        NaN        NaN        NaN        NaN        NaN  ...   \n",
       "act2_3404049        NaN        NaN        NaN        NaN        NaN  ...   \n",
       "act2_3651215        NaN        NaN        NaN        NaN        NaN  ...   \n",
       "act2_4109017        NaN        NaN        NaN        NaN        NaN  ...   \n",
       "\n",
       "             char_29 char_30 char_31  char_32 char_33 char_34 char_35 char_36  \\\n",
       "activity_id                                                                     \n",
       "act2_1734928   False    True    True    False   False    True    True    True   \n",
       "act2_2434093   False    True    True    False   False    True    True    True   \n",
       "act2_3404049   False    True    True    False   False    True    True    True   \n",
       "act2_3651215   False    True    True    False   False    True    True    True   \n",
       "act2_4109017   False    True    True    False   False    True    True    True   \n",
       "\n",
       "             char_37 char_38  \n",
       "activity_id                   \n",
       "act2_1734928   False      36  \n",
       "act2_2434093   False      36  \n",
       "act2_3404049   False      36  \n",
       "act2_3651215   False      36  \n",
       "act2_4109017   False      36  \n",
       "\n",
       "[5 rows x 54 columns]"
      ]
     },
     "execution_count": 6,
     "metadata": {},
     "output_type": "execute_result"
    }
   ],
   "source": [
    "df_train.head()"
   ]
  },
  {
   "cell_type": "code",
   "execution_count": 7,
   "metadata": {
    "scrolled": true
   },
   "outputs": [
    {
     "data": {
      "text/plain": [
       "Index(['people_id', 'date_act', 'activity_category', 'char_1_act',\n",
       "       'char_2_act', 'char_3_act', 'char_4_act', 'char_5_act', 'char_6_act',\n",
       "       'char_7_act', 'char_8_act', 'char_9_act', 'char_10_act', 'outcome',\n",
       "       'char_1', 'group_1', 'char_2', 'date', 'char_3', 'char_4', 'char_5',\n",
       "       'char_6', 'char_7', 'char_8', 'char_9', 'char_10', 'char_11', 'char_12',\n",
       "       'char_13', 'char_14', 'char_15', 'char_16', 'char_17', 'char_18',\n",
       "       'char_19', 'char_20', 'char_21', 'char_22', 'char_23', 'char_24',\n",
       "       'char_25', 'char_26', 'char_27', 'char_28', 'char_29', 'char_30',\n",
       "       'char_31', 'char_32', 'char_33', 'char_34', 'char_35', 'char_36',\n",
       "       'char_37', 'char_38'],\n",
       "      dtype='object')"
      ]
     },
     "execution_count": 7,
     "metadata": {},
     "output_type": "execute_result"
    }
   ],
   "source": [
    "df_train.columns\n"
   ]
  },
  {
   "cell_type": "markdown",
   "metadata": {},
   "source": [
    "<p style=\"font-size:1.5em;color:#2467C0\">Vérifications des données Manquantes </p>"
   ]
  },
  {
   "cell_type": "code",
   "execution_count": 8,
   "metadata": {
    "scrolled": true
   },
   "outputs": [
    {
     "data": {
      "text/plain": [
       "people_id                  0\n",
       "date_act                   0\n",
       "activity_category          0\n",
       "char_1_act           2039676\n",
       "char_2_act           2039676\n",
       "char_3_act           2039676\n",
       "char_4_act           2039676\n",
       "char_5_act           2039676\n",
       "char_6_act           2039676\n",
       "char_7_act           2039676\n",
       "char_8_act           2039676\n",
       "char_9_act           2039676\n",
       "char_10_act           157615\n",
       "outcome                    0\n",
       "char_1                     0\n",
       "group_1                    0\n",
       "char_2                     0\n",
       "date                       0\n",
       "char_3                     0\n",
       "char_4                     0\n",
       "char_5                     0\n",
       "char_6                     0\n",
       "char_7                     0\n",
       "char_8                     0\n",
       "char_9                     0\n",
       "char_10                    0\n",
       "char_11                    0\n",
       "char_12                    0\n",
       "char_13                    0\n",
       "char_14                    0\n",
       "char_15                    0\n",
       "char_16                    0\n",
       "char_17                    0\n",
       "char_18                    0\n",
       "char_19                    0\n",
       "char_20                    0\n",
       "char_21                    0\n",
       "char_22                    0\n",
       "char_23                    0\n",
       "char_24                    0\n",
       "char_25                    0\n",
       "char_26                    0\n",
       "char_27                    0\n",
       "char_28                    0\n",
       "char_29                    0\n",
       "char_30                    0\n",
       "char_31                    0\n",
       "char_32                    0\n",
       "char_33                    0\n",
       "char_34                    0\n",
       "char_35                    0\n",
       "char_36                    0\n",
       "char_37                    0\n",
       "char_38                    0\n",
       "dtype: int64"
      ]
     },
     "execution_count": 8,
     "metadata": {},
     "output_type": "execute_result"
    }
   ],
   "source": [
    "df_train.isnull().sum()"
   ]
  },
  {
   "cell_type": "code",
   "execution_count": null,
   "metadata": {},
   "outputs": [],
   "source": []
  },
  {
   "cell_type": "code",
   "execution_count": null,
   "metadata": {},
   "outputs": [],
   "source": [
    "\n"
   ]
  },
  {
   "cell_type": "markdown",
   "metadata": {},
   "source": [
    "<p style=\"font-size:1.5em;color:#2467C0\">Suppressions des prédicteurs qui contiennent plus de 95% de données manquantes</p>"
   ]
  },
  {
   "cell_type": "code",
   "execution_count": 9,
   "metadata": {},
   "outputs": [],
   "source": [
    "for i in range(1, 10):\n",
    "        df_train.drop(['char_' + str(i)+'_act'],axis=1,inplace=True)"
   ]
  },
  {
   "cell_type": "markdown",
   "metadata": {},
   "source": [
    "Faire la meme chose pour le test"
   ]
  },
  {
   "cell_type": "code",
   "execution_count": 10,
   "metadata": {},
   "outputs": [],
   "source": [
    "for i in range(1, 10):\n",
    "        df_test.drop(['char_' + str(i)+'_act'],axis=1,inplace=True)"
   ]
  },
  {
   "cell_type": "code",
   "execution_count": 11,
   "metadata": {},
   "outputs": [],
   "source": [
    "df_test.drop(['char_10_act'],axis=1,inplace=True)"
   ]
  },
  {
   "cell_type": "code",
   "execution_count": 12,
   "metadata": {},
   "outputs": [],
   "source": [
    "df_train.drop(['char_10_act'],axis=1,inplace=True)"
   ]
  },
  {
   "cell_type": "markdown",
   "metadata": {},
   "source": [
    "Vérification. nous constatons très bien que notre dataset ne contient plus des valeurs manquantes "
   ]
  },
  {
   "cell_type": "code",
   "execution_count": 13,
   "metadata": {
    "scrolled": true
   },
   "outputs": [
    {
     "data": {
      "text/plain": [
       "people_id            0\n",
       "date_act             0\n",
       "activity_category    0\n",
       "outcome              0\n",
       "char_1               0\n",
       "group_1              0\n",
       "char_2               0\n",
       "date                 0\n",
       "char_3               0\n",
       "char_4               0\n",
       "char_5               0\n",
       "char_6               0\n",
       "char_7               0\n",
       "char_8               0\n",
       "char_9               0\n",
       "char_10              0\n",
       "char_11              0\n",
       "char_12              0\n",
       "char_13              0\n",
       "char_14              0\n",
       "char_15              0\n",
       "char_16              0\n",
       "char_17              0\n",
       "char_18              0\n",
       "char_19              0\n",
       "char_20              0\n",
       "char_21              0\n",
       "char_22              0\n",
       "char_23              0\n",
       "char_24              0\n",
       "char_25              0\n",
       "char_26              0\n",
       "char_27              0\n",
       "char_28              0\n",
       "char_29              0\n",
       "char_30              0\n",
       "char_31              0\n",
       "char_32              0\n",
       "char_33              0\n",
       "char_34              0\n",
       "char_35              0\n",
       "char_36              0\n",
       "char_37              0\n",
       "char_38              0\n",
       "dtype: int64"
      ]
     },
     "execution_count": 13,
     "metadata": {},
     "output_type": "execute_result"
    }
   ],
   "source": [
    "df_train.isnull().sum()"
   ]
  },
  {
   "cell_type": "code",
   "execution_count": 14,
   "metadata": {},
   "outputs": [
    {
     "data": {
      "text/plain": [
       "people_id            0\n",
       "date_act             0\n",
       "activity_category    0\n",
       "char_1               0\n",
       "group_1              0\n",
       "char_2               0\n",
       "date                 0\n",
       "char_3               0\n",
       "char_4               0\n",
       "char_5               0\n",
       "char_6               0\n",
       "char_7               0\n",
       "char_8               0\n",
       "char_9               0\n",
       "char_10              0\n",
       "char_11              0\n",
       "char_12              0\n",
       "char_13              0\n",
       "char_14              0\n",
       "char_15              0\n",
       "char_16              0\n",
       "char_17              0\n",
       "char_18              0\n",
       "char_19              0\n",
       "char_20              0\n",
       "char_21              0\n",
       "char_22              0\n",
       "char_23              0\n",
       "char_24              0\n",
       "char_25              0\n",
       "char_26              0\n",
       "char_27              0\n",
       "char_28              0\n",
       "char_29              0\n",
       "char_30              0\n",
       "char_31              0\n",
       "char_32              0\n",
       "char_33              0\n",
       "char_34              0\n",
       "char_35              0\n",
       "char_36              0\n",
       "char_37              0\n",
       "char_38              0\n",
       "dtype: int64"
      ]
     },
     "execution_count": 14,
     "metadata": {},
     "output_type": "execute_result"
    }
   ],
   "source": [
    "df_test.isnull().sum()"
   ]
  },
  {
   "cell_type": "code",
   "execution_count": 15,
   "metadata": {},
   "outputs": [
    {
     "data": {
      "text/plain": [
       "(2197291, 44)"
      ]
     },
     "execution_count": 15,
     "metadata": {},
     "output_type": "execute_result"
    }
   ],
   "source": [
    "df_train.shape"
   ]
  },
  {
   "cell_type": "code",
   "execution_count": 16,
   "metadata": {},
   "outputs": [
    {
     "data": {
      "text/plain": [
       "people_id            object\n",
       "date_act             object\n",
       "activity_category    object\n",
       "outcome               int64\n",
       "char_1               object\n",
       "group_1              object\n",
       "char_2               object\n",
       "date                 object\n",
       "char_3               object\n",
       "char_4               object\n",
       "char_5               object\n",
       "char_6               object\n",
       "char_7               object\n",
       "char_8               object\n",
       "char_9               object\n",
       "char_10                bool\n",
       "char_11                bool\n",
       "char_12                bool\n",
       "char_13                bool\n",
       "char_14                bool\n",
       "char_15                bool\n",
       "char_16                bool\n",
       "char_17                bool\n",
       "char_18                bool\n",
       "char_19                bool\n",
       "char_20                bool\n",
       "char_21                bool\n",
       "char_22                bool\n",
       "char_23                bool\n",
       "char_24                bool\n",
       "char_25                bool\n",
       "char_26                bool\n",
       "char_27                bool\n",
       "char_28                bool\n",
       "char_29                bool\n",
       "char_30                bool\n",
       "char_31                bool\n",
       "char_32                bool\n",
       "char_33                bool\n",
       "char_34                bool\n",
       "char_35                bool\n",
       "char_36                bool\n",
       "char_37                bool\n",
       "char_38               int64\n",
       "dtype: object"
      ]
     },
     "execution_count": 16,
     "metadata": {},
     "output_type": "execute_result"
    }
   ],
   "source": [
    "df_train.dtypes"
   ]
  },
  {
   "cell_type": "code",
   "execution_count": 17,
   "metadata": {},
   "outputs": [
    {
     "data": {
      "text/plain": [
       "people_id            2197291\n",
       "date_act             2197291\n",
       "activity_category    2197291\n",
       "outcome              2197291\n",
       "char_1               2197291\n",
       "group_1              2197291\n",
       "char_2               2197291\n",
       "date                 2197291\n",
       "char_3               2197291\n",
       "char_4               2197291\n",
       "char_5               2197291\n",
       "char_6               2197291\n",
       "char_7               2197291\n",
       "char_8               2197291\n",
       "char_9               2197291\n",
       "char_10              2197291\n",
       "char_11              2197291\n",
       "char_12              2197291\n",
       "char_13              2197291\n",
       "char_14              2197291\n",
       "char_15              2197291\n",
       "char_16              2197291\n",
       "char_17              2197291\n",
       "char_18              2197291\n",
       "char_19              2197291\n",
       "char_20              2197291\n",
       "char_21              2197291\n",
       "char_22              2197291\n",
       "char_23              2197291\n",
       "char_24              2197291\n",
       "char_25              2197291\n",
       "char_26              2197291\n",
       "char_27              2197291\n",
       "char_28              2197291\n",
       "char_29              2197291\n",
       "char_30              2197291\n",
       "char_31              2197291\n",
       "char_32              2197291\n",
       "char_33              2197291\n",
       "char_34              2197291\n",
       "char_35              2197291\n",
       "char_36              2197291\n",
       "char_37              2197291\n",
       "char_38              2197291\n",
       "dtype: int64"
      ]
     },
     "execution_count": 17,
     "metadata": {},
     "output_type": "execute_result"
    }
   ],
   "source": [
    "df_train.count()"
   ]
  },
  {
   "cell_type": "markdown",
   "metadata": {},
   "source": [
    "Transformations des types de prédicteurs en type numerique"
   ]
  },
  {
   "cell_type": "code",
   "execution_count": 18,
   "metadata": {},
   "outputs": [],
   "source": [
    "df_train['activity_category']=df_train.activity_category.str.split(' ').str[1]\n"
   ]
  },
  {
   "cell_type": "code",
   "execution_count": 19,
   "metadata": {},
   "outputs": [],
   "source": [
    "df_test['activity_category']=df_test.activity_category.str.split(' ').str[1]"
   ]
  },
  {
   "cell_type": "code",
   "execution_count": 20,
   "metadata": {},
   "outputs": [],
   "source": [
    "df_train=df_train.astype({\"activity_category\":'int64'},)\n",
    "for i in range(11, 38):\n",
    "       df_train=df_train.astype({\"char_\"+ str(i):'int32'},)\n",
    "       "
   ]
  },
  {
   "cell_type": "code",
   "execution_count": 21,
   "metadata": {},
   "outputs": [],
   "source": [
    "df_test=df_test.astype({\"activity_category\":'int64'},)\n",
    "for i in range(11, 38):\n",
    "       df_test=df_test.astype({\"char_\"+ str(i):'int32'},)\n",
    "       "
   ]
  },
  {
   "cell_type": "code",
   "execution_count": 22,
   "metadata": {},
   "outputs": [],
   "source": [
    "df_train['group_1']=df_train.group_1.str.split(' ').str[1]\n",
    "df_train=df_train.astype({\"group_1\":'int64'},)"
   ]
  },
  {
   "cell_type": "code",
   "execution_count": 23,
   "metadata": {},
   "outputs": [],
   "source": [
    "df_test['group_1']=df_test.group_1.str.split(' ').str[1]\n",
    "df_test=df_test.astype({\"group_1\":'int64'},)\n"
   ]
  },
  {
   "cell_type": "code",
   "execution_count": 24,
   "metadata": {},
   "outputs": [],
   "source": [
    "for i in range(1,10):\n",
    "    df_train['char_'+str(i)]= df_train['char_'+str(i)].str.split(' ').str[1]\n",
    "    df_train=df_train.astype({\"char_\"+ str(i):'int32'},)"
   ]
  },
  {
   "cell_type": "code",
   "execution_count": 25,
   "metadata": {},
   "outputs": [],
   "source": [
    "for i in range(1,10):\n",
    "    df_test['char_'+str(i)]= df_test['char_'+str(i)].str.split(' ').str[1]\n",
    "    df_test=df_test.astype({\"char_\"+ str(i):'int32'},)"
   ]
  },
  {
   "cell_type": "code",
   "execution_count": 26,
   "metadata": {},
   "outputs": [],
   "source": [
    "df_train=df_train.astype({\"char_10\":'int32'},)"
   ]
  },
  {
   "cell_type": "code",
   "execution_count": 27,
   "metadata": {},
   "outputs": [],
   "source": [
    "df_test=df_test.astype({\"char_10\":'int32'},)"
   ]
  },
  {
   "cell_type": "markdown",
   "metadata": {},
   "source": [
    "Suppressions des colonnes qui ne serviront à rien dans l'apprentissage du model"
   ]
  },
  {
   "cell_type": "code",
   "execution_count": 28,
   "metadata": {},
   "outputs": [],
   "source": [
    "df_train.drop(['people_id'],axis=1,inplace=True)"
   ]
  },
  {
   "cell_type": "code",
   "execution_count": 29,
   "metadata": {},
   "outputs": [],
   "source": [
    "df_test.drop(['people_id'],axis=1,inplace=True)"
   ]
  },
  {
   "cell_type": "markdown",
   "metadata": {},
   "source": [
    "Transformation de la date en jour,mois,années,week-end"
   ]
  },
  {
   "cell_type": "code",
   "execution_count": 30,
   "metadata": {},
   "outputs": [],
   "source": [
    "df_train['date'] = pd.to_datetime(df_train['date'], errors='coerce')\n",
    "df_train['year'] = df_train['date'].dt.year\n",
    "df_train['month'] = df_train['date'].dt.month\n",
    "df_train['day'] = df_train['date'].dt.day\n",
    "df_train['weekday'] = df_train['date'].dt.weekday\n",
    "df_train['weekend'] = ((df_train.weekday == 0) | (df_train.weekday == 6)).astype(int)\n",
    "df_train.drop('date', axis=1, inplace=True)\n"
   ]
  },
  {
   "cell_type": "code",
   "execution_count": 31,
   "metadata": {},
   "outputs": [],
   "source": [
    "df_test['date'] = pd.to_datetime(df_test['date'], errors='coerce')\n",
    "df_test['year'] = df_test['date'].dt.year\n",
    "df_test['month'] = df_test['date'].dt.month\n",
    "df_test['day'] =df_test['date'].dt.day\n",
    "df_test['weekday'] = df_test['date'].dt.weekday\n",
    "df_test['weekend'] = ((df_test.weekday == 0) | (df_test.weekday == 6)).astype(int)\n",
    "df_test.drop('date', axis=1, inplace=True)"
   ]
  },
  {
   "cell_type": "code",
   "execution_count": 32,
   "metadata": {},
   "outputs": [],
   "source": [
    "df_train['date_act'] = pd.to_datetime(df_train['date_act'], errors='coerce')\n",
    "df_train['year1'] = df_train['date_act'].dt.year\n",
    "df_train['month1'] = df_train['date_act'].dt.month\n",
    "df_train['day1'] = df_train['date_act'].dt.day\n",
    "df_train['weekday1'] = df_train['date_act'].dt.weekday\n",
    "df_train['weekend1'] = ((df_train.weekday == 0) | (df_train.weekday == 6)).astype(int)\n",
    "df_train.drop('date_act', axis=1, inplace=True)\n"
   ]
  },
  {
   "cell_type": "code",
   "execution_count": 33,
   "metadata": {},
   "outputs": [],
   "source": [
    "df_test['date_act'] = pd.to_datetime(df_test['date_act'], errors='coerce')\n",
    "df_test['year1'] = df_test['date_act'].dt.year\n",
    "df_test['month1'] = df_test['date_act'].dt.month\n",
    "df_test['day1'] = df_test['date_act'].dt.day\n",
    "df_test['weekday1'] = df_test['date_act'].dt.weekday\n",
    "df_test['weekend1'] = ((df_test.weekday == 0) | (df_train.weekday == 6)).astype(int)\n",
    "df_test.drop('date_act', axis=1, inplace=True)\n"
   ]
  },
  {
   "cell_type": "code",
   "execution_count": null,
   "metadata": {},
   "outputs": [],
   "source": [
    "sns.distplot(df_train['char_38'],\n",
    "            color='r')\n",
    "sns.set(rc={'figure.figsize':(5,5\n",
    "                             )})\n",
    "plt.show()"
   ]
  },
  {
   "cell_type": "code",
   "execution_count": null,
   "metadata": {},
   "outputs": [],
   "source": [
    "df_train.info()\n"
   ]
  },
  {
   "cell_type": "markdown",
   "metadata": {},
   "source": [
    "\n",
    "<h3 style=\"font-size:2em;color:#2467C0\">la visualization de données</h3>\n"
   ]
  },
  {
   "cell_type": "code",
   "execution_count": null,
   "metadata": {},
   "outputs": [],
   "source": [
    "df_train.plot(column='char_38', figsize=(15,10))"
   ]
  },
  {
   "cell_type": "code",
   "execution_count": null,
   "metadata": {},
   "outputs": [],
   "source": [
    "import seaborn as sns\n",
    "sns.distplot(df_train['group_1'])\n",
    "plt.show()"
   ]
  },
  {
   "cell_type": "code",
   "execution_count": null,
   "metadata": {},
   "outputs": [],
   "source": [
    "import seaborn as sns\n",
    "sns.distplot(df_train['char_38'])\n",
    "plt.show()"
   ]
  },
  {
   "cell_type": "code",
   "execution_count": null,
   "metadata": {},
   "outputs": [],
   "source": [
    "\n",
    "barplot(counts, main=\"Red Hat - Outcome vs People Char 2\",\n",
    "        xlab=\"People Char 2\", col=c(\"darkblue\",\"red\"),\n",
    "        legend = rownames(df_train.char_2,df_train.outcome))"
   ]
  },
  {
   "cell_type": "markdown",
   "metadata": {},
   "source": [
    "# Apprentisssage du modèle \n"
   ]
  },
  {
   "cell_type": "markdown",
   "metadata": {},
   "source": [
    "<p style=\"font-size:1em;color:#2467C0\">Nous allons séparer le dataframe du trainning en train et test en faisant le hold out pour savoir la performance de notre algorithme <p>"
   ]
  },
  {
   "cell_type": "code",
   "execution_count": 34,
   "metadata": {},
   "outputs": [],
   "source": [
    "from sklearn.model_selection import train_test_split\n",
    "X = df_train.drop(['outcome'],axis=1)\n",
    "y = df_train['outcome']\n",
    "X_train, X_test, y_train, y_test = train_test_split(X, y,test_size=0.33, random_state=42 )"
   ]
  },
  {
   "cell_type": "markdown",
   "metadata": {},
   "source": [
    "<h4 style=\"font-size:1.5em;color:#2467C0\">XGBOOST </h4>\n",
    "    <p style=\"font-size:1em;color:#2467C0\"> Auc pour calculer la mesure de performance de notre model </p>"
   ]
  },
  {
   "cell_type": "code",
   "execution_count": 35,
   "metadata": {},
   "outputs": [
    {
     "data": {
      "text/plain": [
       "0.874867415784709"
      ]
     },
     "execution_count": 35,
     "metadata": {},
     "output_type": "execute_result"
    }
   ],
   "source": [
    "import xgboost as xgb\n",
    "from sklearn.metrics import mean_squared_error\n",
    "from math import sqrt\n",
    "from sklearn import metrics\n",
    "import warnings\n",
    "warnings.filterwarnings(\"ignore\")\n",
    "xg = xgb.XGBClassifier()\n",
    "xg.fit(X_train, y_train)\n",
    "y_pred = xg.predict(X_test)\n",
    "metrics.roc_auc_score(y_test, y_pred)"
   ]
  },
  {
   "cell_type": "code",
   "execution_count": null,
   "metadata": {},
   "outputs": [],
   "source": []
  },
  {
   "cell_type": "markdown",
   "metadata": {},
   "source": [
    "<h4 style=\"font-size:1.5em;color:#2467C0\">LightGBM Classifier</h4>\n"
   ]
  },
  {
   "cell_type": "code",
   "execution_count": 36,
   "metadata": {},
   "outputs": [
    {
     "data": {
      "text/plain": [
       "0.8941221183652658"
      ]
     },
     "execution_count": 36,
     "metadata": {},
     "output_type": "execute_result"
    }
   ],
   "source": [
    "\n",
    "from lightgbm import LGBMClassifier\n",
    "\n",
    "lgbm = LGBMClassifier(random_state=5)\n",
    "\n",
    "lgbm.fit(X, y)\n",
    "\n",
    "y_pred = lgbm.predict(X_test)\n",
    "metrics.roc_auc_score(y_test, y_pred)\n"
   ]
  },
  {
   "cell_type": "markdown",
   "metadata": {},
   "source": [
    "<h4 style=\"font-size:1.5em;color:#2467C0\">KNNr</h4>\n"
   ]
  },
  {
   "cell_type": "code",
   "execution_count": null,
   "metadata": {},
   "outputs": [],
   "source": [
    "from sklearn.neighbors import KNeighborsClassifier\n",
    "classifier = KNeighborsClassifier(n_neighbors=5)\n",
    "classifier.fit(X_train, y_train)\n",
    "predictions = classifier.predict(X_test)\n",
    "accuracy_score(y_true = y_test, y_pred = predictions)"
   ]
  },
  {
   "cell_type": "markdown",
   "metadata": {},
   "source": [
    "\n",
    "<h4 style=\"font-size:1.5em;color:#2467C0\">SVM </4>"
   ]
  },
  {
   "cell_type": "code",
   "execution_count": null,
   "metadata": {},
   "outputs": [],
   "source": [
    "from sklearn.svm import SVC\n",
    "svm=SVC()\n",
    "svm.fit(X_train, y_train)\n",
    "y_pred = svm.predict(X_test)\n",
    "metrics.roc_auc_score(y_test, y_pred)"
   ]
  },
  {
   "cell_type": "markdown",
   "metadata": {},
   "source": [
    "<h4 style=\"font-size:1.5em;color:#2467C0\">Arbre de decision </h4>"
   ]
  },
  {
   "cell_type": "code",
   "execution_count": null,
   "metadata": {},
   "outputs": [],
   "source": [
    "from sklearn.tree import DecisionTreeClassifier\n",
    "arbre=DecisionTreeClassifier(max_leaf_nodes=10, random_state=0)\n",
    "arbre.fit(X_train, y_train)\n",
    "y_predd = arbre.predict(X_test)\n",
    "metrics.roc_auc_score(y_test, y_predd)"
   ]
  },
  {
   "cell_type": "markdown",
   "metadata": {},
   "source": [
    "<h4 style=\"font-size:1.5em;color:#2467C0\">Naif Baye</h4>"
   ]
  },
  {
   "cell_type": "code",
   "execution_count": null,
   "metadata": {},
   "outputs": [],
   "source": [
    "from sklearn.naive_bayes import GaussianNB\n",
    "classifier = GaussianNB()\n",
    "classifier.fit(X_train, y_train)\n",
    "predictions = classifier.predict(X_test)\n",
    "accuracy_score(y_true = y_test, y_pred = predictions)"
   ]
  },
  {
   "cell_type": "markdown",
   "metadata": {},
   "source": [
    "<h4 style=\"font-size:1.5em;color:#2467C0\">K-means</h4>"
   ]
  },
  {
   "cell_type": "code",
   "execution_count": null,
   "metadata": {},
   "outputs": [],
   "source": [
    "from sklearn.cluster import KMeans\n",
    "k_classifier = KMeans(n_clusters=2)\n",
    "k_classifier.fit(X_train)\n",
    "predictions = k_classifier.predict(X_test)\n",
    "accuracy_score(y_true = y_test, y_pred = predictions)"
   ]
  },
  {
   "cell_type": "markdown",
   "metadata": {},
   "source": [
    "<h4 style=\"font-size:1.5em;color:#2467C0\">Random Forest</h4>"
   ]
  },
  {
   "cell_type": "code",
   "execution_count": null,
   "metadata": {},
   "outputs": [],
   "source": [
    "from sklearn.ensemble import RandomForestClassifier\n",
    "from sklearn import metrics\n",
    "clf=RandomForestClassifier(n_estimators=100)\n",
    "clf.fit(X_train,y_train)\n",
    "y_pred=clf.predict(X_test)\n",
    "print(\"Accuracy:\",metrics.accuracy_score(y_test, y_pred))"
   ]
  },
  {
   "cell_type": "markdown",
   "metadata": {},
   "source": [
    "<h4 style=\"font-size:1.5em;color:#2467C0\">Logistic Regression</h4>"
   ]
  },
  {
   "cell_type": "code",
   "execution_count": null,
   "metadata": {},
   "outputs": [],
   "source": [
    "from sklearn.linear_model import LogisticRegression\n",
    "logisticRegr = LogisticRegression()\n",
    "logisticRegr.fit(x_train, y_train)\n",
    "predictions = logisticRegr.predict(x_test)\n",
    "# Use score method to get accuracy of model\n",
    "score = logisticRegr.score(x_test, y_test)\n",
    "print(score)"
   ]
  },
  {
   "cell_type": "markdown",
   "metadata": {},
   "source": [
    "<h4 style=\"font-size:1.5em;color:#2467C0\">AdaBoosting</h4>"
   ]
  },
  {
   "cell_type": "code",
   "execution_count": null,
   "metadata": {},
   "outputs": [],
   "source": [
    "from sklearn.ensemble import AdaBoostClassifier\n",
    "from sklearn import metrics\n",
    "# Create adaboost classifer object\n",
    "abc = AdaBoostClassifier(n_estimators=50,\n",
    "                         learning_rate=1)\n",
    "# Train Adaboost Classifer\n",
    "model = abc.fit(X_train, y_train)\n",
    "\n",
    "#Predict the response for test dataset\n",
    "y_pred = model.predict(X_test)\n",
    "print(\"Accuracy:\",metrics.accuracy_score(y_test, y_pred))"
   ]
  },
  {
   "cell_type": "markdown",
   "metadata": {},
   "source": [
    "<h4 style=\"font-size:1.5em;color:#2467C0\">Gradient Boosting</h4>"
   ]
  },
  {
   "cell_type": "code",
   "execution_count": null,
   "metadata": {},
   "outputs": [],
   "source": [
    "from sklearn.ensemble import GradientBoostingClassifier\n",
    "model = GradientBoostingClassifier()\n",
    "model.fit(x_train, y_train)\n",
    "> GradientBoostingClassifier(criterion=’friedman_mse’, init=None,\n",
    " learning_rate=0.1, loss=’deviance’, max_depth=3,\n",
    " max_features=None, max_leaf_nodes=None,\n",
    " min_impurity_split=1e-07, min_samples_leaf=1,\n",
    " min_samples_split=2, min_weight_fraction_leaf=0.0,\n",
    " n_estimators=100, presort=’auto’, random_state=None,\n",
    " subsample=1.0, verbose=0, warm_start=False)\n",
    "y_pred = model.predict(x_test)\n",
    "from sklearn.metrics import roc_curve, auc\n",
    "false_positive_rate, true_positive_rate, thresholds = roc_curve(y_test, y_pred)\n",
    "roc_auc = auc(false_positive_rate, true_positive_rate)\n",
    "roc_auc"
   ]
  },
  {
   "cell_type": "markdown",
   "metadata": {},
   "source": [
    "# Reduction de la dimentionalité "
   ]
  },
  {
   "cell_type": "markdown",
   "metadata": {},
   "source": [
    "# Features Selection"
   ]
  },
  {
   "cell_type": "markdown",
   "metadata": {},
   "source": [
    "<h2 \"style=\"font-family: Arial; font-size:1.75em;color:purple; font-style:bold\"\">Correlation par cible </2>"
   ]
  },
  {
   "cell_type": "code",
   "execution_count": null,
   "metadata": {},
   "outputs": [],
   "source": [
    "df_train['outcome'].corr(df_train['char_38'])\n"
   ]
  },
  {
   "cell_type": "code",
   "execution_count": null,
   "metadata": {},
   "outputs": [],
   "source": [
    "corrmat = df_train.corr()\n",
    "f, ax = plt.subplots(figsize=(12, 9))\n",
    "sns.heatmap(corrmat, vmax=.8, square=True);"
   ]
  },
  {
   "cell_type": "code",
   "execution_count": null,
   "metadata": {},
   "outputs": [],
   "source": [
    "#saleprice correlation matrix\n",
    "k = 10 #number of variables for heatmap\n",
    "cols = corrmat.nlargest(k, 'outcome')['outcome'].index\n",
    "cm = np.corrcoef(df_train[cols].values.T)\n",
    "sns.set(font_scale=1.25)\n",
    "hm = sns.heatmap(cm, cbar=True, annot=True, square=True, fmt='.2f', annot_kws={'size': 10}, yticklabels=cols.values, xticklabels=cols.values)\n",
    "plt.show()"
   ]
  },
  {
   "cell_type": "markdown",
   "metadata": {},
   "source": [
    "Matrice de correlation entre la sortie \"outcome\" et les features .\n",
    "pour savoir quelle features servirons à apprendre le model de prediction "
   ]
  },
  {
   "cell_type": "code",
   "execution_count": null,
   "metadata": {},
   "outputs": [],
   "source": [
    "import seaborn as sns\n",
    "import numpy as np\n",
    "k = 10 #number of variables for heatmap\n",
    "corrmat = df_train.corr()\n",
    "cols = corrmat.nlargest(k, 'outcome')['outcome'].index\n",
    "cm = np.corrcoef(df_train[cols].values.T)\n",
    "sns.set(font_scale=1.25)\n",
    "hm = sns.heatmap(cm, cbar=True, annot=True, square=True, fmt='.2f', annot_kws={'size': 10}, yticklabels=cols.values, xticklabels=cols.values)\n",
    "plt.show()"
   ]
  },
  {
   "cell_type": "code",
   "execution_count": null,
   "metadata": {},
   "outputs": [],
   "source": [
    "corr_with_Outcome = df_train.corr()[\"outcome\"].sort_values(ascending=False)\n",
    "plt.figure(figsize=(16,7))\n",
    "corr_with_Outcome.drop(\"outcome\").plot.bar()\n",
    "plt.show()"
   ]
  },
  {
   "cell_type": "markdown",
   "metadata": {},
   "source": [
    "Les Features importants pour la prédiction "
   ]
  },
  {
   "cell_type": "code",
   "execution_count": null,
   "metadata": {},
   "outputs": [],
   "source": [
    "features=['char_38','char_2','char_36','char_34','char_37','char_25','char_17','char_13','char_22','char_19',\n",
    "          'char_32','char_21','char_16','char_28','char_23','char_20','char_10','char_15','char_31','char_14'\n",
    "          ,'char_27','char_11','char_12','char_24','char_35','char_33','char_18','char_30','char_29','char_26','char_9','year','month','year1']"
   ]
  },
  {
   "cell_type": "code",
   "execution_count": null,
   "metadata": {},
   "outputs": [],
   "source": [
    "target=['outcome']"
   ]
  },
  {
   "cell_type": "markdown",
   "metadata": {},
   "source": [
    "Construction d'un nouveau dataframe train avec les features importants et la sortie \"outcome\""
   ]
  },
  {
   "cell_type": "code",
   "execution_count": null,
   "metadata": {},
   "outputs": [],
   "source": [
    "df1 = df_train[features + target]"
   ]
  },
  {
   "cell_type": "markdown",
   "metadata": {},
   "source": [
    "Construction d'un nouveau dataframe test avec les features importants sans la sortie \"outcome\" qui sera prédite après l'apprentissage du modèle"
   ]
  },
  {
   "cell_type": "code",
   "execution_count": null,
   "metadata": {},
   "outputs": [],
   "source": [
    "df2 = df_test[features]"
   ]
  },
  {
   "cell_type": "code",
   "execution_count": null,
   "metadata": {},
   "outputs": [],
   "source": [
    "df1.shape"
   ]
  },
  {
   "cell_type": "code",
   "execution_count": null,
   "metadata": {},
   "outputs": [],
   "source": [
    "df2.shape"
   ]
  },
  {
   "cell_type": "code",
   "execution_count": null,
   "metadata": {},
   "outputs": [],
   "source": [
    "df1.head()\n"
   ]
  },
  {
   "cell_type": "markdown",
   "metadata": {},
   "source": [
    "<h4 style=\"font-size:1.5em;color:#2467C0\">Apprentisssage du modèle <h/4>"
   ]
  },
  {
   "cell_type": "code",
   "execution_count": null,
   "metadata": {},
   "outputs": [],
   "source": [
    "from sklearn.model_selection import train_test_split\n",
    "X = df1.drop(['outcome'],axis=1)\n",
    "y = df1['outcome']\n",
    "X_train, X_test, y_train, y_test = train_test_split(X, y,test_size=0.33, random_state=42 )"
   ]
  },
  {
   "cell_type": "markdown",
   "metadata": {},
   "source": [
    "<h4 style=\"font-size:1.5em;color:#2467C0\">Xgboost</h4>"
   ]
  },
  {
   "cell_type": "code",
   "execution_count": null,
   "metadata": {},
   "outputs": [],
   "source": [
    "import xgboost as xgb\n",
    "from sklearn.metrics import mean_squared_error\n",
    "from math import sqrt\n",
    "from sklearn import metrics\n",
    "import warnings\n",
    "warnings.filterwarnings(\"ignore\")\n",
    "xg = xgb.XGBClassifier()\n",
    "xg.fit(X_train, y_train)\n",
    "y_pred = xg.predict(X_test)\n",
    "metrics.roc_auc_score(y_test, y_pred)"
   ]
  },
  {
   "cell_type": "code",
   "execution_count": null,
   "metadata": {},
   "outputs": [],
   "source": []
  },
  {
   "cell_type": "markdown",
   "metadata": {},
   "source": [
    "<h4 style=\"font-size:1.5em;color:#2467C0\">LightGBM Classifier</h4>\n"
   ]
  },
  {
   "cell_type": "code",
   "execution_count": null,
   "metadata": {},
   "outputs": [],
   "source": [
    "\n",
    "from lightgbm import LGBMClassifier\n",
    "\n",
    "lgbm = LGBMClassifier(random_state=5)\n",
    "\n",
    "lgbm.fit(X, y)\n",
    "\n",
    "y_pred = lgbm.predict(X_test)\n",
    "metrics.roc_auc_score(y_test, y_pred)\n"
   ]
  },
  {
   "cell_type": "markdown",
   "metadata": {},
   "source": [
    "<h4 style=\"font-size:1.5em;color:#2467C0\">KNNr</h4>\n"
   ]
  },
  {
   "cell_type": "code",
   "execution_count": null,
   "metadata": {},
   "outputs": [],
   "source": [
    "from sklearn.neighbors import KNeighborsClassifier\n",
    "classifier = KNeighborsClassifier(n_neighbors=5)\n",
    "classifier.fit(X_train, y_train)\n",
    "predictions = classifier.predict(X_test)\n",
    "accuracy_score(y_true = y_test, y_pred = predictions)"
   ]
  },
  {
   "cell_type": "markdown",
   "metadata": {},
   "source": [
    "\n",
    "<h4 style=\"font-size:1.5em;color:#2467C0\">SVM </4>"
   ]
  },
  {
   "cell_type": "code",
   "execution_count": null,
   "metadata": {},
   "outputs": [],
   "source": [
    "from sklearn.svm import SVC\n",
    "svm=SVC()\n",
    "svm.fit(X_train, y_train)\n",
    "y_pred = svm.predict(X_test)\n",
    "metrics.roc_auc_score(y_test, y_pred)"
   ]
  },
  {
   "cell_type": "markdown",
   "metadata": {},
   "source": [
    "<h4 style=\"font-size:1.5em;color:#2467C0\">Arbre de decision </h4>"
   ]
  },
  {
   "cell_type": "code",
   "execution_count": null,
   "metadata": {},
   "outputs": [],
   "source": [
    "from sklearn.tree import DecisionTreeClassifier\n",
    "arbre=DecisionTreeClassifier(max_leaf_nodes=10, random_state=0)\n",
    "arbre.fit(X_train, y_train)\n",
    "y_predd = arbre.predict(X_test)\n",
    "metrics.roc_auc_score(y_test, y_predd)"
   ]
  },
  {
   "cell_type": "markdown",
   "metadata": {},
   "source": [
    "<h4 style=\"font-size:1.5em;color:#2467C0\">Naif Baye</h4>"
   ]
  },
  {
   "cell_type": "code",
   "execution_count": null,
   "metadata": {},
   "outputs": [],
   "source": [
    "from sklearn.naive_bayes import GaussianNB\n",
    "classifier = GaussianNB()\n",
    "classifier.fit(X_train, y_train)\n",
    "predictions = classifier.predict(X_test)\n",
    "accuracy_score(y_true = y_test, y_pred = predictions)"
   ]
  },
  {
   "cell_type": "markdown",
   "metadata": {},
   "source": [
    "<h4 style=\"font-size:1.5em;color:#2467C0\">K-means</h4>"
   ]
  },
  {
   "cell_type": "code",
   "execution_count": null,
   "metadata": {},
   "outputs": [],
   "source": [
    "from sklearn.cluster import KMeans\n",
    "k_classifier = KMeans(n_clusters=2)\n",
    "k_classifier.fit(X_train)\n",
    "predictions = k_classifier.predict(X_test)\n",
    "accuracy_score(y_true = y_test, y_pred = predictions)"
   ]
  },
  {
   "cell_type": "markdown",
   "metadata": {},
   "source": [
    "<h4 style=\"font-size:1.5em;color:#2467C0\">Random Forest</h4>"
   ]
  },
  {
   "cell_type": "code",
   "execution_count": null,
   "metadata": {},
   "outputs": [],
   "source": [
    "from sklearn.ensemble import RandomForestClassifier\n",
    "from sklearn import metrics\n",
    "clf=RandomForestClassifier(n_estimators=100)\n",
    "clf.fit(X_train,y_train)\n",
    "y_pred=clf.predict(X_test)\n",
    "print(\"Accuracy:\",metrics.accuracy_score(y_test, y_pred))"
   ]
  },
  {
   "cell_type": "markdown",
   "metadata": {},
   "source": [
    "<h4 style=\"font-size:1.5em;color:#2467C0\">Logistic Regression</h4>"
   ]
  },
  {
   "cell_type": "code",
   "execution_count": null,
   "metadata": {},
   "outputs": [],
   "source": [
    "from sklearn.linear_model import LogisticRegression\n",
    "logisticRegr = LogisticRegression()\n",
    "logisticRegr.fit(x_train, y_train)\n",
    "predictions = logisticRegr.predict(x_test)\n",
    "# Use score method to get accuracy of model\n",
    "score = logisticRegr.score(x_test, y_test)\n",
    "print(score)"
   ]
  },
  {
   "cell_type": "markdown",
   "metadata": {},
   "source": [
    "<h4 style=\"font-size:1.5em;color:#2467C0\">AdaBoosting</h4>"
   ]
  },
  {
   "cell_type": "code",
   "execution_count": null,
   "metadata": {},
   "outputs": [],
   "source": [
    "from sklearn.ensemble import AdaBoostClassifier\n",
    "from sklearn import metrics\n",
    "# Create adaboost classifer object\n",
    "abc = AdaBoostClassifier(n_estimators=50,\n",
    "                         learning_rate=1)\n",
    "# Train Adaboost Classifer\n",
    "model = abc.fit(X_train, y_train)\n",
    "\n",
    "#Predict the response for test dataset\n",
    "y_pred = model.predict(X_test)\n",
    "print(\"Accuracy:\",metrics.accuracy_score(y_test, y_pred))"
   ]
  },
  {
   "cell_type": "markdown",
   "metadata": {},
   "source": [
    "<h4 style=\"font-size:1.5em;color:#2467C0\">Gradient Boosting</h4>"
   ]
  },
  {
   "cell_type": "code",
   "execution_count": null,
   "metadata": {},
   "outputs": [],
   "source": [
    "from sklearn.ensemble import GradientBoostingClassifier\n",
    "model = GradientBoostingClassifier()\n",
    "model.fit(x_train, y_train)\n",
    "> GradientBoostingClassifier(criterion=’friedman_mse’, init=None,\n",
    " learning_rate=0.1, loss=’deviance’, max_depth=3,\n",
    " max_features=None, max_leaf_nodes=None,\n",
    " min_impurity_split=1e-07, min_samples_leaf=1,\n",
    " min_samples_split=2, min_weight_fraction_leaf=0.0,\n",
    " n_estimators=100, presort=’auto’, random_state=None,\n",
    " subsample=1.0, verbose=0, warm_start=False)\n",
    "y_pred = model.predict(x_test)\n",
    "from sklearn.metrics import roc_curve, auc\n",
    "false_positive_rate, true_positive_rate, thresholds = roc_curve(y_test, y_pred)\n",
    "roc_auc = auc(false_positive_rate, true_positive_rate)\n",
    "roc_auc"
   ]
  },
  {
   "cell_type": "markdown",
   "metadata": {},
   "source": [
    "# Seuil de variance"
   ]
  },
  {
   "cell_type": "code",
   "execution_count": 35,
   "metadata": {},
   "outputs": [
    {
     "data": {
      "text/plain": [
       "Index(['activity_category', 'outcome', 'group_1', 'char_2', 'char_3', 'char_4',\n",
       "       'char_5', 'char_6', 'char_7', 'char_8', 'char_9', 'char_10', 'char_11',\n",
       "       'char_12', 'char_13', 'char_14', 'char_15', 'char_16', 'char_17',\n",
       "       'char_18', 'char_19', 'char_20', 'char_21', 'char_22', 'char_23',\n",
       "       'char_24', 'char_25', 'char_26', 'char_27', 'char_28', 'char_29',\n",
       "       'char_30', 'char_31', 'char_32', 'char_33', 'char_34', 'char_35',\n",
       "       'char_36', 'char_37', 'char_38', 'year', 'month', 'day', 'weekday',\n",
       "       'year1', 'month1', 'day1', 'weekday1'],\n",
       "      dtype='object')"
      ]
     },
     "execution_count": 35,
     "metadata": {},
     "output_type": "execute_result"
    }
   ],
   "source": [
    "from sklearn.feature_selection import VarianceThreshold\n",
    "vseuil=VarianceThreshold(0.1)\n",
    "\n",
    "vseuil.fit_transform(df_train)\n",
    "\n",
    "\n",
    "vseuil\n",
    "\n",
    "a=df_train[df_train.columns[vseuil.get_support(indices=True)]].columns\n",
    "a"
   ]
  },
  {
   "cell_type": "code",
   "execution_count": 36,
   "metadata": {},
   "outputs": [],
   "source": [
    "features_seuil=['activity_category', 'outcome', 'group_1', 'char_2', 'char_3', 'char_4',\n",
    "       'char_5', 'char_6', 'char_7', 'char_8', 'char_9', 'char_10', 'char_11',\n",
    "       'char_12', 'char_13', 'char_14', 'char_15', 'char_16', 'char_17',\n",
    "       'char_18', 'char_19', 'char_20', 'char_21', 'char_22', 'char_23',\n",
    "       'char_24', 'char_25', 'char_26', 'char_27', 'char_28', 'char_29',\n",
    "       'char_30', 'char_31', 'char_32', 'char_33', 'char_34', 'char_35',\n",
    "       'char_36', 'char_37', 'char_38', 'year', 'month', 'day', 'weekday',\n",
    "       'year1', 'month1', 'day1', 'weekday1']"
   ]
  },
  {
   "cell_type": "code",
   "execution_count": 37,
   "metadata": {},
   "outputs": [],
   "source": [
    "df=df_train[features_seuil]"
   ]
  },
  {
   "cell_type": "code",
   "execution_count": 38,
   "metadata": {},
   "outputs": [
    {
     "data": {
      "text/plain": [
       "[<matplotlib.lines.Line2D at 0x205957bcb88>]"
      ]
     },
     "execution_count": 38,
     "metadata": {},
     "output_type": "execute_result"
    },
    {
     "data": {
      "image/png": "[encoded data removed]",
      "text/plain": [
       "<Figure size 432x288 with 1 Axes>"
      ]
     },
     "metadata": {
      "needs_background": "light"
     },
     "output_type": "display_data"
    }
   ],
   "source": [
    "import matplotlib.pyplot as plt\n",
    "plt.plot(a)"
   ]
  },
  {
   "cell_type": "code",
   "execution_count": 39,
   "metadata": {},
   "outputs": [],
   "source": [
    "from sklearn.model_selection import train_test_split\n",
    "X = df.drop(['outcome'],axis=1)\n",
    "y = df['outcome']\n",
    "X_train, X_test, y_train, y_test = train_test_split(X, y,test_size=0.33, random_state=42 )"
   ]
  },
  {
   "cell_type": "markdown",
   "metadata": {},
   "source": [
    "<h4 style=\"font-size:1.5em;color:#2467C0\">Xgboost</h4>"
   ]
  },
  {
   "cell_type": "code",
   "execution_count": 40,
   "metadata": {},
   "outputs": [
    {
     "data": {
      "text/plain": [
       "0.874867415784709"
      ]
     },
     "execution_count": 40,
     "metadata": {},
     "output_type": "execute_result"
    }
   ],
   "source": [
    "import xgboost as xgb\n",
    "from sklearn.metrics import mean_squared_error\n",
    "from math import sqrt\n",
    "from sklearn import metrics\n",
    "import warnings\n",
    "warnings.filterwarnings(\"ignore\")\n",
    "xg = xgb.XGBClassifier()\n",
    "xg.fit(X_train, y_train)\n",
    "y_pred = xg.predict(X_test)\n",
    "metrics.roc_auc_score(y_test, y_pred)"
   ]
  },
  {
   "cell_type": "code",
   "execution_count": null,
   "metadata": {},
   "outputs": [],
   "source": []
  },
  {
   "cell_type": "markdown",
   "metadata": {},
   "source": [
    "<h4 style=\"font-size:1.5em;color:#2467C0\">LightGBM Classifier</h4>\n"
   ]
  },
  {
   "cell_type": "code",
   "execution_count": 41,
   "metadata": {},
   "outputs": [
    {
     "data": {
      "text/plain": [
       "0.8934937398495044"
      ]
     },
     "execution_count": 41,
     "metadata": {},
     "output_type": "execute_result"
    }
   ],
   "source": [
    "\n",
    "from lightgbm import LGBMClassifier\n",
    "\n",
    "lgbm = LGBMClassifier(random_state=5)\n",
    "\n",
    "lgbm.fit(X, y)\n",
    "\n",
    "y_pred = lgbm.predict(X_test)\n",
    "metrics.roc_auc_score(y_test, y_pred)\n"
   ]
  },
  {
   "cell_type": "markdown",
   "metadata": {},
   "source": [
    "<h4 style=\"font-size:1.5em;color:#2467C0\">KNNr</h4>\n"
   ]
  },
  {
   "cell_type": "code",
   "execution_count": null,
   "metadata": {},
   "outputs": [],
   "source": [
    "from sklearn.neighbors import KNeighborsClassifier\n",
    "classifier = KNeighborsClassifier(n_neighbors=5)\n",
    "classifier.fit(X_train, y_train)\n",
    "predictions = classifier.predict(X_test)\n",
    "accuracy_score(y_true = y_test, y_pred = predictions)"
   ]
  },
  {
   "cell_type": "markdown",
   "metadata": {},
   "source": [
    "\n",
    "<h4 style=\"font-size:1.5em;color:#2467C0\">SVM </4>"
   ]
  },
  {
   "cell_type": "code",
   "execution_count": null,
   "metadata": {},
   "outputs": [],
   "source": [
    "from sklearn.svm import SVC\n",
    "svm=SVC()\n",
    "svm.fit(X_train, y_train)\n",
    "y_pred = svm.predict(X_test)\n",
    "metrics.roc_auc_score(y_test, y_pred)"
   ]
  },
  {
   "cell_type": "markdown",
   "metadata": {},
   "source": [
    "<h4 style=\"font-size:1.5em;color:#2467C0\">Arbre de decision </h4>"
   ]
  },
  {
   "cell_type": "code",
   "execution_count": null,
   "metadata": {},
   "outputs": [],
   "source": [
    "from sklearn.tree import DecisionTreeClassifier\n",
    "arbre=DecisionTreeClassifier(max_leaf_nodes=10, random_state=0)\n",
    "arbre.fit(X_train, y_train)\n",
    "y_predd = arbre.predict(X_test)\n",
    "metrics.roc_auc_score(y_test, y_predd)"
   ]
  },
  {
   "cell_type": "markdown",
   "metadata": {},
   "source": [
    "<h4 style=\"font-size:1.5em;color:#2467C0\">Naif Baye</h4>"
   ]
  },
  {
   "cell_type": "code",
   "execution_count": null,
   "metadata": {},
   "outputs": [],
   "source": [
    "from sklearn.naive_bayes import GaussianNB\n",
    "classifier = GaussianNB()\n",
    "classifier.fit(X_train, y_train)\n",
    "predictions = classifier.predict(X_test)\n",
    "accuracy_score(y_true = y_test, y_pred = predictions)"
   ]
  },
  {
   "cell_type": "markdown",
   "metadata": {},
   "source": [
    "<h4 style=\"font-size:1.5em;color:#2467C0\">K-means</h4>"
   ]
  },
  {
   "cell_type": "code",
   "execution_count": null,
   "metadata": {},
   "outputs": [],
   "source": [
    "from sklearn.cluster import KMeans\n",
    "k_classifier = KMeans(n_clusters=2)\n",
    "k_classifier.fit(X_train)\n",
    "predictions = k_classifier.predict(X_test)\n",
    "accuracy_score(y_true = y_test, y_pred = predictions)"
   ]
  },
  {
   "cell_type": "markdown",
   "metadata": {},
   "source": [
    "<h4 style=\"font-size:1.5em;color:#2467C0\">Random Forest</h4>"
   ]
  },
  {
   "cell_type": "code",
   "execution_count": null,
   "metadata": {},
   "outputs": [],
   "source": [
    "from sklearn.ensemble import RandomForestClassifier\n",
    "from sklearn import metrics\n",
    "clf=RandomForestClassifier(n_estimators=100)\n",
    "clf.fit(X_train,y_train)\n",
    "y_pred=clf.predict(X_test)\n",
    "print(\"Accuracy:\",metrics.accuracy_score(y_test, y_pred))"
   ]
  },
  {
   "cell_type": "markdown",
   "metadata": {},
   "source": [
    "<h4 style=\"font-size:1.5em;color:#2467C0\">Logistic Regression</h4>"
   ]
  },
  {
   "cell_type": "code",
   "execution_count": null,
   "metadata": {},
   "outputs": [],
   "source": [
    "from sklearn.linear_model import LogisticRegression\n",
    "logisticRegr = LogisticRegression()\n",
    "logisticRegr.fit(x_train, y_train)\n",
    "predictions = logisticRegr.predict(x_test)\n",
    "# Use score method to get accuracy of model\n",
    "score = logisticRegr.score(x_test, y_test)\n",
    "print(score)"
   ]
  },
  {
   "cell_type": "markdown",
   "metadata": {},
   "source": [
    "<h4 style=\"font-size:1.5em;color:#2467C0\">AdaBoosting</h4>"
   ]
  },
  {
   "cell_type": "code",
   "execution_count": null,
   "metadata": {},
   "outputs": [],
   "source": [
    "from sklearn.ensemble import AdaBoostClassifier\n",
    "from sklearn import metrics\n",
    "# Create adaboost classifer object\n",
    "abc = AdaBoostClassifier(n_estimators=50,\n",
    "                         learning_rate=1)\n",
    "# Train Adaboost Classifer\n",
    "model = abc.fit(X_train, y_train)\n",
    "\n",
    "#Predict the response for test dataset\n",
    "y_pred = model.predict(X_test)\n",
    "print(\"Accuracy:\",metrics.accuracy_score(y_test, y_pred))"
   ]
  },
  {
   "cell_type": "markdown",
   "metadata": {},
   "source": [
    "<h4 style=\"font-size:1.5em;color:#2467C0\">Gradient Boosting</h4>"
   ]
  },
  {
   "cell_type": "code",
   "execution_count": null,
   "metadata": {},
   "outputs": [],
   "source": [
    "from sklearn.ensemble import GradientBoostingClassifier\n",
    "model = GradientBoostingClassifier()\n",
    "model.fit(x_train, y_train)\n",
    "> GradientBoostingClassifier(criterion=’friedman_mse’, init=None,\n",
    " learning_rate=0.1, loss=’deviance’, max_depth=3,\n",
    " max_features=None, max_leaf_nodes=None,\n",
    " min_impurity_split=1e-07, min_samples_leaf=1,\n",
    " min_samples_split=2, min_weight_fraction_leaf=0.0,\n",
    " n_estimators=100, presort=’auto’, random_state=None,\n",
    " subsample=1.0, verbose=0, warm_start=False)\n",
    "y_pred = model.predict(x_test)\n",
    "from sklearn.metrics import roc_curve, auc\n",
    "false_positive_rate, true_positive_rate, thresholds = roc_curve(y_test, y_pred)\n",
    "roc_auc = auc(false_positive_rate, true_positive_rate)\n",
    "roc_auc"
   ]
  },
  {
   "cell_type": "markdown",
   "metadata": {},
   "source": [
    "# Features Exploration and Engineering\n",
    "##### Nous allons procéder maintenant à une analyse approfondie pour extraire les caractéristiques importantes"
   ]
  },
  {
   "cell_type": "code",
   "execution_count": null,
   "metadata": {},
   "outputs": [],
   "source": [
    "data_train=df_train"
   ]
  },
  {
   "cell_type": "code",
   "execution_count": null,
   "metadata": {},
   "outputs": [],
   "source": [
    "Y=data_train['outcome'].values\n"
   ]
  },
  {
   "cell_type": "code",
   "execution_count": null,
   "metadata": {},
   "outputs": [],
   "source": [
    "X=data_train.drop(['outcome'],axis=1).values"
   ]
  },
  {
   "cell_type": "code",
   "execution_count": null,
   "metadata": {},
   "outputs": [],
   "source": [
    "colnames=data_train.columns"
   ]
  },
  {
   "cell_type": "code",
   "execution_count": null,
   "metadata": {},
   "outputs": [],
   "source": [
    "# définir un dictionnaire pour stocker nos rankings \n",
    "ranks = {}\n",
    "# créer une fonction qui stocke le classement des caractéristiques \n",
    "def ranking(ranks, names, order=1):\n",
    "    minmax = MinMaxScaler()\n",
    "    ranks = minmax.fit_transform(order*np.array([ranks]).T).T[0]\n",
    "    ranks = map(lambda x: round(x,2), ranks)\n",
    "    return dict(zip(names, ranks))"
   ]
  },
  {
   "cell_type": "code",
   "execution_count": null,
   "metadata": {},
   "outputs": [],
   "source": [
    "from sklearn.feature_selection import RFE\n",
    "from sklearn.preprocessing import MinMaxScaler\n",
    "from sklearn.linear_model import SGDClassifier\n",
    "# construire un modèle de régression linéaire \n",
    "lr = SGDClassifier(max_iter=10, tol=1e-3)\n",
    "lr.fit(X,Y)\n",
    "# arrêt - jusqu'à la dernière caractéristique \n",
    "rfe = RFE(lr, n_features_to_select=1, verbose =3 )\n",
    "rfe.fit(X,Y)\n",
    "ranks[\"RFE\"] = ranking(list(map(float, rfe.ranking_)), colnames, order=-1)"
   ]
  },
  {
   "cell_type": "code",
   "execution_count": null,
   "metadata": {},
   "outputs": [],
   "source": [
    "#linear\n",
    "lr = SGDClassifier(max_iter=10, tol=1e-3)\n",
    "lr.fit(X,Y)\n",
    "ranks[\"SGDClassifier\"] = ranking(lr.coef_,colnames)\n",
    "\n",
    "#  Ridge \n",
    "from sklearn.linear_model import RidgeClassifier\n",
    "\n",
    "ridge = RidgeClassifier\n",
    "()\n",
    "ridge.fit(X,Y)\n",
    "ranks['Ridge'] = ranking(np.abs(ridge.coef_), colnames)\n",
    "\n",
    "#  Lasso\n",
    "from sklearn.linear_model import LassoCV\n",
    "\n",
    "lasso = LassoCV(cv=5, random_state=0)\n",
    "lasso.fit(X, Y)\n",
    "ranks[\"Lasso\"] = ranking(np.abs(lasso.coef_), colnames)\n",
    "\n",
    "#Random Forrest\n",
    "from sklearn.ensemble import RandomForestClassifier\n",
    "from sklearn import metrics\n",
    "\n",
    "rf = RandomForestClassifier(n_estimators=100)\n",
    "rf.fit(X,Y)\n",
    "ranks[\"RF\"] = ranking(rf.feature_importances_, colnames);"
   ]
  },
  {
   "cell_type": "code",
   "execution_count": null,
   "metadata": {},
   "outputs": [],
   "source": [
    "# mettre la moyenne dans un dataframe Pandas\n",
    "meanplot = pd.DataFrame(list(r.items()), columns= ['Feature','Mean Ranking'])\n",
    "\n",
    "# Trier le  dataframe\n",
    "meanplot = meanplot.sort_values('Mean Ranking', ascending=False)"
   ]
  },
  {
   "cell_type": "code",
   "execution_count": null,
   "metadata": {},
   "outputs": [],
   "source": [
    "import seaborn as sns\n",
    "sns.factorplot(x=\"Mean Ranking\", y=\"Feature\", data = meanplot, kind=\"bar\", \n",
    "               size=14, aspect=1.9, palette='coolwarm')"
   ]
  },
  {
   "cell_type": "code",
   "execution_count": null,
   "metadata": {},
   "outputs": [],
   "source": []
  },
  {
   "cell_type": "markdown",
   "metadata": {},
   "source": [
    "<h4 style=\"font-size:1.5em;color:#2467C0\">Prediction avec tout le dataframe train et la prédictiction de la sortie \"outcome\" avc le test </h4>"
   ]
  },
  {
   "cell_type": "code",
   "execution_count": null,
   "metadata": {},
   "outputs": [],
   "source": []
  },
  {
   "cell_type": "code",
   "execution_count": null,
   "metadata": {},
   "outputs": [],
   "source": [
    "y_train1 = df_train.outcome\n",
    "x_train1 = df_train.drop(['outcome'], axis=1)\n",
    "x_test1=df_test"
   ]
  },
  {
   "cell_type": "code",
   "execution_count": null,
   "metadata": {},
   "outputs": [],
   "source": [
    "x_test1"
   ]
  },
  {
   "cell_type": "code",
   "execution_count": null,
   "metadata": {},
   "outputs": [],
   "source": [
    "\n",
    "lgbm = LGBMClassifier(random_state=5)\n",
    "\n",
    "lgbm.fit(x_train1, y_train1)\n",
    "\n",
    "y_pred1 = lgbm.predict(x_test1)\n",
    "y_test1=lgbm.predict(x_train1)\n",
    "\n"
   ]
  },
  {
   "cell_type": "code",
   "execution_count": null,
   "metadata": {},
   "outputs": [],
   "source": [
    "df_test.shape"
   ]
  },
  {
   "cell_type": "code",
   "execution_count": null,
   "metadata": {},
   "outputs": [],
   "source": [
    "y_pred1[:500]"
   ]
  },
  {
   "cell_type": "code",
   "execution_count": null,
   "metadata": {},
   "outputs": [],
   "source": []
  },
  {
   "cell_type": "code",
   "execution_count": null,
   "metadata": {},
   "outputs": [],
   "source": [
    "submission1 = pd.DataFrame({\n",
    "        \"activity_id\": df_test.index,\n",
    "        \"outcome\": y_pred1\n",
    "    })"
   ]
  },
  {
   "cell_type": "code",
   "execution_count": null,
   "metadata": {},
   "outputs": [],
   "source": [
    "submission1"
   ]
  },
  {
   "cell_type": "code",
   "execution_count": null,
   "metadata": {},
   "outputs": [],
   "source": [
    "submission1.to_csv('./dataset/sample_submission1.csv', index=False)"
   ]
  },
  {
   "cell_type": "markdown",
   "metadata": {},
   "source": [
    "Deep Learning"
   ]
  },
  {
   "cell_type": "code",
   "execution_count": null,
   "metadata": {
    "scrolled": true
   },
   "outputs": [],
   "source": [
    "from tensorflow.keras import Sequential\n",
    "from tensorflow.keras.layers import Dense\n",
    "from tensorflow.keras.layers import Dropout\n",
    "from tensorflow.keras.layers import Flatten\n",
    "from tensorflow.keras.layers import Convolution2D\n",
    "from tensorflow.keras.layers import MaxPooling2D\n",
    "from sklearn.preprocessing import LabelEncoder,OneHotEncoder\n",
    "from tensorflow.keras import backend as K\n",
    "\n",
    "from tensorflow.keras.callbacks import TensorBoard"
   ]
  },
  {
   "cell_type": "code",
   "execution_count": null,
   "metadata": {},
   "outputs": [],
   "source": [
    "from subprocess import check_output\n"
   ]
  },
  {
   "cell_type": "code",
   "execution_count": null,
   "metadata": {},
   "outputs": [],
   "source": [
    "from sklearn import preprocessing\n",
    "lb = preprocessing.LabelBinarizer()\n",
    "y_train = lb.fit_transform(y_train)\n",
    "y_test = lb.fit_transform(y_test)"
   ]
  },
  {
   "cell_type": "code",
   "execution_count": null,
   "metadata": {},
   "outputs": [],
   "source": [
    "model = Sequential()\n",
    "\n",
    "model.add(Flatten())\n",
    "model.add(Dense(128, activation= 'relu' ))\n",
    "model.add(Dense(50, activation= 'relu' ))\n",
    "model.add(Dense(10, activation= 'softmax' ))\n",
    "  # Compile model\n",
    "\n",
    "\n",
    "model.compile(optimizer='adam',\n",
    "              loss='sparse_categorical_crossentropy',\n",
    "              metrics=['accuracy'])"
   ]
  },
  {
   "cell_type": "code",
   "execution_count": null,
   "metadata": {},
   "outputs": [],
   "source": [
    "%reload_ext tensorboard\n"
   ]
  },
  {
   "cell_type": "code",
   "execution_count": null,
   "metadata": {},
   "outputs": [],
   "source": [
    "import datetime,os\n",
    "logdir = os.path.join(\"logs\\\\fit\\\\\", datetime.datetime.now().strftime(\"%Y%m%d-%H%M%S\"))\n",
    "tensorboard_callback = TensorBoard(logdir, histogram_freq=1)\n",
    "model.fit(X_train.values, y_train,\n",
    "          epochs=10,callbacks=[tensorboard_callback])\n"
   ]
  },
  {
   "cell_type": "code",
   "execution_count": null,
   "metadata": {},
   "outputs": [],
   "source": [
    "%tensorboard --logdir logs/fit"
   ]
  },
  {
   "cell_type": "code",
   "execution_count": null,
   "metadata": {},
   "outputs": [],
   "source": [
    "score = model.evaluate(X_test.values, y_test)\n",
    "print( score)"
   ]
  },
  {
   "cell_type": "code",
   "execution_count": null,
   "metadata": {},
   "outputs": [],
   "source": [
    "test_acc = model.evaluate(X_test.values, y_test)\n",
    "\n",
    "print('\\nTest accuracy:', test_acc)"
   ]
  },
  {
   "cell_type": "code",
   "execution_count": null,
   "metadata": {},
   "outputs": [],
   "source": [
    "X_test.values"
   ]
  },
  {
   "cell_type": "code",
   "execution_count": null,
   "metadata": {},
   "outputs": [],
   "source": []
  }
 ],
 "metadata": {
  "kernelspec": {
   "display_name": "Python 3",
   "language": "python",
   "name": "python3"
  },
  "language_info": {
   "codemirror_mode": {
    "name": "ipython",
    "version": 3
   },
   "file_extension": ".py",
   "mimetype": "text/x-python",
   "name": "python",
   "nbconvert_exporter": "python",
   "pygments_lexer": "ipython3",
   "version": "3.7.4"
  }
 },
 "nbformat": 4,
 "nbformat_minor": 2
}
